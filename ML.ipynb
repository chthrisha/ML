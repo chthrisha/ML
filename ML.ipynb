{
 "cells": [
  {
   "cell_type": "markdown",
   "id": "f620e5ac-7068-44e4-ac90-6187407d1a36",
   "metadata": {},
   "source": [
    "The total number of multiplications and additions needed to perform a matrix multiplication between (n,k) and (k,m) matrix are n*m*k, n*m*(k-1) respectively.\n",
    "\n",
    "Explanation:\n",
    "let A be the matrix with size (n,k) and B be the matrix with size (k,m).\n",
    "Now, let C be the matrix multiplication of these two matrices i.e C=AB\n",
    "we know that the size of the matrix C will be (n,m)\n",
    "\n",
    "In the resultant matrix C, the element cij will be the dot product of the ith row in A and the jth column in B.\n",
    "\n",
    "Therefore,\n",
    "Each element cij requires k multiplications\n",
    "To sum the k products we need k-1 additions.\n",
    "\n",
    "we know that there are n*m elements in matrix C\n",
    "Therefore,\n",
    "The total number of multiplications is n*m*k\n",
    "The total number of additions is n*m*(k-1)"
   ]
  },
  {
   "cell_type": "code",
   "execution_count": null,
   "id": "63af671e-503a-43f7-a31a-26379be8f246",
   "metadata": {},
   "outputs": [],
   "source": [
    "# Using python\n",
    "C=np.zeros((n,m))\n",
    "for i in range(len(A)):\n",
    "    for j in range((len(B[0])):\n",
    "        for k in range(len(B)):\n",
    "            C[i][j]+=A[i][k]*B[k][j]\n",
    "for l in C:\n",
    "    print(l)\n",
    "\n",
    "# Using numpy\n",
    "import numpy as np\n",
    "a=np.array(A)\n",
    "b=np.array(B)\n",
    "C=a.dot(b)\n",
    "print(C)\n",
    "\n",
    "By comparing the timings of both codes\n",
    "The Numpy implementation is expected to be faster because using Numpy avoids the extra work of Python loops and interpreter operations and also Numpy handles matrix creation more efficiently."
   ]
  },
  {
   "cell_type": "code",
   "execution_count": null,
   "id": "b02bd845-56e4-4e3a-859e-5927ef9d9d73",
   "metadata": {},
   "outputs": [],
   "source": []
  },
  {
   "cell_type": "markdown",
   "id": "db44b770-e8a3-4b7b-8ba8-9767bafdab97",
   "metadata": {},
   "source": [
    "Given function,\n",
    "Let f(x,y)= (x**2)*y+(y**3)*(sin(x))\n",
    "\n",
    "The gradient of the following function:\n",
    "with respect to x is 2*x*y+(y**3)*(cos(x)) (here y is constant)\n",
    "with respect to y is (x**2)+(3*(y**2)*(sin(x))) (here x is constant)"
   ]
  },
  {
   "cell_type": "code",
   "execution_count": null,
   "id": "2b69ccfe-357c-4b54-9e35-b8b638511c65",
   "metadata": {},
   "outputs": [],
   "source": [
    "import jax.numpy as jnp\n",
    "from jax import grad\n",
    "\n",
    "def f(x,y):\n",
    "    return ((x**2)*y)+((y**3)*jnp.sin(x))\n",
    "def wrtx(x,y):\n",
    "    return grad(lamda x: f(x,y))(x)\n",
    "def wrty(x,y):\n",
    "    return grad(lamda y: f(x,y))(y)\n",
    "\n",
    "# Now let's take the value of x and y as 2 and 3 respectively\n",
    "x=2.0\n",
    "y=3.0\n",
    "gradientwrtx=wrtx(x,y)\n",
    "gradientwrty=wrty(x,y)\n",
    "print(gradientwrtx) # 0.7640352 by calculating manually\n"
   ]
  }
 ],
 "metadata": {
  "kernelspec": {
   "display_name": "Python 3 (ipykernel)",
   "language": "python",
   "name": "python3"
  },
  "language_info": {
   "codemirror_mode": {
    "name": "ipython",
    "version": 3
   },
   "file_extension": ".py",
   "mimetype": "text/x-python",
   "name": "python",
   "nbconvert_exporter": "python",
   "pygments_lexer": "ipython3",
   "version": "3.12.4"
  }
 },
 "nbformat": 4,
 "nbformat_minor": 5
}
